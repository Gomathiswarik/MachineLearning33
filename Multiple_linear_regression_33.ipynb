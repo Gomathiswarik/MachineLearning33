{
  "nbformat": 4,
  "nbformat_minor": 0,
  "metadata": {
    "colab": {
      "provenance": []
    },
    "kernelspec": {
      "name": "python3",
      "display_name": "Python 3"
    },
    "language_info": {
      "name": "python"
    }
  },
  "cells": [
    {
      "cell_type": "code",
      "source": [
        "import statsmodels.api as sm\n",
        "import pandas as pd\n",
        "\n",
        "# Creating a DataFrame from the data\n",
        "data = {\n",
        "    'Hours_Studied': [10, 8, 7, 9, 12],               # Example values\n",
        "    'Previous_Test_Scores': [85, 75, 78, 82, 95],    # Example values\n",
        "    'Attendance': [90, 80, 85, 88, 95],              # Example values\n",
        "    'Final_Exam_Score': [90, 85, 88, 86, 95]         # Example values\n",
        "}\n",
        "\n",
        "# Convert the data to a DataFrame\n",
        "df = pd.DataFrame(data)\n",
        "\n",
        "# Convert all columns to numeric type (if not already)\n",
        "df = df.apply(pd.to_numeric, errors='coerce')\n",
        "\n",
        "# Drop rows with any missing values\n",
        "df = df.dropna()\n",
        "\n",
        "# Independent variables (X) and dependent variable (Y)\n",
        "X = df[['Hours_Studied', 'Previous_Test_Scores', 'Attendance']]\n",
        "Y = df['Final_Exam_Score']\n",
        "\n",
        "# Add a constant term to the predictor variables\n",
        "X = sm.add_constant(X)\n",
        "\n",
        "# Fit the regression model\n",
        "model = sm.OLS(Y, X).fit()\n",
        "\n",
        "# Print the summary of the regression model\n",
        "print(model.summary())\n",
        "\n"
      ],
      "metadata": {
        "colab": {
          "base_uri": "https://localhost:8080/"
        },
        "id": "tnqGqvX3FU9T",
        "outputId": "1f9d31b1-089d-479b-fa02-381650fc6994"
      },
      "execution_count": 4,
      "outputs": [
        {
          "output_type": "stream",
          "name": "stdout",
          "text": [
            "                            OLS Regression Results                            \n",
            "==============================================================================\n",
            "Dep. Variable:       Final_Exam_Score   R-squared:                       0.925\n",
            "Model:                            OLS   Adj. R-squared:                  0.700\n",
            "Method:                 Least Squares   F-statistic:                     4.108\n",
            "Date:                Wed, 30 Oct 2024   Prob (F-statistic):              0.344\n",
            "Time:                        20:19:42   Log-Likelihood:                -6.9470\n",
            "No. Observations:                   5   AIC:                             21.89\n",
            "Df Residuals:                       1   BIC:                             20.33\n",
            "Df Model:                           3                                         \n",
            "Covariance Type:            nonrobust                                         \n",
            "========================================================================================\n",
            "                           coef    std err          t      P>|t|      [0.025      0.975]\n",
            "----------------------------------------------------------------------------------------\n",
            "const                   48.5041     26.271      1.846      0.316    -285.304     382.312\n",
            "Hours_Studied           -1.6598      2.002     -0.829      0.559     -27.095      23.776\n",
            "Previous_Test_Scores     1.2664      0.977      1.297      0.418     -11.142      13.674\n",
            "Attendance              -0.5656      0.901     -0.628      0.643     -12.010      10.879\n",
            "==============================================================================\n",
            "Omnibus:                          nan   Durbin-Watson:                   1.747\n",
            "Prob(Omnibus):                    nan   Jarque-Bera (JB):                0.217\n",
            "Skew:                          -0.408   Prob(JB):                        0.897\n",
            "Kurtosis:                       2.385   Cond. No.                     3.28e+03\n",
            "==============================================================================\n",
            "\n",
            "Notes:\n",
            "[1] Standard Errors assume that the covariance matrix of the errors is correctly specified.\n",
            "[2] The condition number is large, 3.28e+03. This might indicate that there are\n",
            "strong multicollinearity or other numerical problems.\n"
          ]
        },
        {
          "output_type": "stream",
          "name": "stderr",
          "text": [
            "/usr/local/lib/python3.10/dist-packages/statsmodels/stats/stattools.py:74: ValueWarning: omni_normtest is not valid with less than 8 observations; 5 samples were given.\n",
            "  warn(\"omni_normtest is not valid with less than 8 observations; %i \"\n"
          ]
        }
      ]
    }
  ]
}